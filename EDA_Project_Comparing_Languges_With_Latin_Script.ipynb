{
  "nbformat": 4,
  "nbformat_minor": 0,
  "metadata": {
    "colab": {
      "provenance": [],
      "authorship_tag": "ABX9TyPX1CDwm6yig+nrcjds+Nrh",
      "include_colab_link": true
    },
    "kernelspec": {
      "name": "python3",
      "display_name": "Python 3"
    },
    "language_info": {
      "name": "python"
    }
  },
  "cells": [
    {
      "cell_type": "markdown",
      "metadata": {
        "id": "view-in-github",
        "colab_type": "text"
      },
      "source": [
        "<a href=\"https://colab.research.google.com/github/ParnLimwat/LearningMLbyProjects/blob/main/EDA_Project_Comparing_Languges_With_Latin_Script.ipynb\" target=\"_parent\"><img src=\"https://colab.research.google.com/assets/colab-badge.svg\" alt=\"Open In Colab\"/></a>"
      ]
    },
    {
      "cell_type": "markdown",
      "source": [
        "**This EDM Project compares and contrasts various languages languages that uses Latin Script**"
      ],
      "metadata": {
        "id": "SVgRGGDkQHK5"
      }
    },
    {
      "cell_type": "code",
      "execution_count": 2,
      "metadata": {
        "id": "InO5iaAiAjkQ"
      },
      "outputs": [],
      "source": [
        "# importing libraries for manipulating the data set\n",
        "\n",
        "import pandas as pd\n",
        "import matplotlib.pyplot as plt\n",
        "import seaborn as sns\n",
        "import string\n",
        "import unicodedata\n",
        "from collections import Counter"
      ]
    },
    {
      "cell_type": "markdown",
      "source": [
        "**Data Set First Sight**"
      ],
      "metadata": {
        "id": "qdLbRBdUKtlC"
      }
    },
    {
      "cell_type": "code",
      "source": [
        "# Load in the data set\n",
        "df = pd.read_csv(\"language_dataset.csv\")"
      ],
      "metadata": {
        "id": "AQGuOMvGCGIy"
      },
      "execution_count": 4,
      "outputs": []
    },
    {
      "cell_type": "code",
      "source": [
        "# Example Data\n",
        "print(df.head())"
      ],
      "metadata": {
        "colab": {
          "base_uri": "https://localhost:8080/"
        },
        "id": "9c8uy8-CK_Ud",
        "outputId": "56edf231-c3e4-4cad-f5ec-f2566231ce2b"
      },
      "execution_count": 5,
      "outputs": [
        {
          "output_type": "stream",
          "name": "stdout",
          "text": [
            "                                                Text  language\n",
            "0  klement gottwaldi surnukeha palsameeriti ning ...  Estonian\n",
            "1  sebes joseph pereira thomas  på eng the jesuit...   Swedish\n",
            "2  ถนนเจริญกรุง อักษรโรมัน thanon charoen krung เ...      Thai\n",
            "3  விசாகப்பட்டினம் தமிழ்ச்சங்கத்தை இந்துப் பத்திர...     Tamil\n",
            "4  de spons behoort tot het geslacht haliclona en...     Dutch\n"
          ]
        }
      ]
    },
    {
      "cell_type": "code",
      "source": [
        "# Dataset Metadata\n",
        "print(df.info())"
      ],
      "metadata": {
        "colab": {
          "base_uri": "https://localhost:8080/"
        },
        "id": "N08IVkEkLPRh",
        "outputId": "af0dd064-121c-422a-e808-3fae8ee4a255"
      },
      "execution_count": 7,
      "outputs": [
        {
          "output_type": "stream",
          "name": "stdout",
          "text": [
            "<class 'pandas.core.frame.DataFrame'>\n",
            "RangeIndex: 22000 entries, 0 to 21999\n",
            "Data columns (total 2 columns):\n",
            " #   Column    Non-Null Count  Dtype \n",
            "---  ------    --------------  ----- \n",
            " 0   Text      22000 non-null  object\n",
            " 1   language  22000 non-null  object\n",
            "dtypes: object(2)\n",
            "memory usage: 343.9+ KB\n",
            "None\n"
          ]
        }
      ]
    },
    {
      "cell_type": "code",
      "source": [
        "# Number of Dataset per language\n",
        "print(df['language'].value_counts())"
      ],
      "metadata": {
        "colab": {
          "base_uri": "https://localhost:8080/"
        },
        "id": "xfdPLKNkLZ_e",
        "outputId": "a9a0dfee-f01f-4f72-aa8a-5af23d6a30e0"
      },
      "execution_count": 8,
      "outputs": [
        {
          "output_type": "stream",
          "name": "stdout",
          "text": [
            "language\n",
            "Estonian      1000\n",
            "Swedish       1000\n",
            "Thai          1000\n",
            "Tamil         1000\n",
            "Dutch         1000\n",
            "Japanese      1000\n",
            "Turkish       1000\n",
            "Latin         1000\n",
            "Urdu          1000\n",
            "Indonesian    1000\n",
            "Portugese     1000\n",
            "French        1000\n",
            "Chinese       1000\n",
            "Korean        1000\n",
            "Hindi         1000\n",
            "Spanish       1000\n",
            "Pushto        1000\n",
            "Persian       1000\n",
            "Romanian      1000\n",
            "Russian       1000\n",
            "English       1000\n",
            "Arabic        1000\n",
            "Name: count, dtype: int64\n"
          ]
        }
      ]
    },
    {
      "cell_type": "markdown",
      "source": [
        "**Data Cleaning**"
      ],
      "metadata": {
        "id": "X1jDxmdqLiQq"
      }
    },
    {
      "cell_type": "code",
      "source": [
        "\n",
        "language_char_freq = {}\n",
        "\n",
        "# list the languages\n",
        "latin_script_languages = [\"Estonian\", \"Swedish\", \"Dutch\", \"Turkish\", \"Latin\", \"Indonesian\", \"French\", \"Spanish\", \"Romanian\", \"English\"]\n",
        "print(latin_script_languages)\n",
        "\n",
        "\n",
        "\n",
        "for lang in latin_script_languages:\n",
        "  # filter\n",
        "  text_series = df[df['language'] == lang]['Text']\n",
        "\n",
        "\n",
        "  combined_text = ''.join(text_series.dropna())  #avoids NaN issues\n",
        "\n",
        "  combined_text = combined_text.replace(\" \", \"\")\n",
        "\n",
        "\n",
        "  # Create translation table that maps each punctuation character to None\n",
        "  translator = str.maketrans('', '', string.punctuation)\n",
        "  combined_text = combined_text.translate(translator)\n",
        "\n",
        "\n",
        "  char_freq = dict(Counter(combined_text))\n",
        "\n",
        "\n",
        "  sorted_freq = dict(sorted(char_freq.items(), key=lambda item: item[1], reverse=True))\n",
        "\n",
        "\n",
        "  language_char_freq[lang] = sorted_freq\n"
      ],
      "metadata": {
        "id": "9xJyXxqgGgWF"
      },
      "execution_count": null,
      "outputs": []
    },
    {
      "cell_type": "code",
      "source": [
        "# #Print out all frequency\n",
        "# for lang in latin_script_languages:\n",
        "#   print(f\"Character frequencies for {lang}:\")\n",
        "#   print(language_char_freq.get(f\"{lang}\", {}))\n",
        "#   print()\n",
        "\n",
        "#Example Print out for English\n",
        "print(\"Character freqencies for English\")\n",
        "print(language_char_freq.get(\"English\",{}))"
      ],
      "metadata": {
        "colab": {
          "base_uri": "https://localhost:8080/"
        },
        "id": "M137r93BO9zm",
        "outputId": "5d25dd40-1560-4c70-c58d-094ceb617150"
      },
      "execution_count": 72,
      "outputs": [
        {
          "output_type": "stream",
          "name": "stdout",
          "text": [
            "Character freqencies for English\n",
            "{'e': 40076, 'a': 29361, 't': 28462, 'i': 25402, 'o': 25011, 'n': 24745, 's': 22655, 'r': 22166, 'h': 15910, 'l': 14245, 'd': 13337, 'c': 12343, 'm': 8943, 'u': 8915, 'f': 7376, 'p': 6743, 'g': 6655, 'w': 5853, 'b': 5545, 'y': 5264, 'v': 3189, 'k': 2657, 'j': 834, 'x': 617, 'z': 428, 'q': 343, '–': 90, '’': 68, 'é': 44, '—': 32, '“': 24, '”': 14, '−': 12, 'è': 10, 'ō': 10, 'ó': 8, '„': 8, 'ö': 7, 'н': 7, 'ł': 7, '£': 7, 'ü': 6, 'ä': 6, '×': 6, 'í': 6, 'ā': 6, '⁄': 6, 'د': 5, 'ا': 5, '\\u200e': 5, 'о': 5, '€': 5, 'ș': 5, 'ل': 4, 'у': 4, 'д': 4, 'с': 4, 'к': 4, '‘': 4, 'ˈ': 4, 'و': 3, 'ك': 3, 'ع': 3, 'á': 3, 'म': 3, 'न': 3, 'б': 3, 'ё': 3, 'в': 3, 'ń': 3, 'ą': 3, 'κ': 3, 'ι': 3, 'ς': 3, 'م': 3, 'ر': 3, '…': 3, 'ز': 2, 'ي': 2, 'ा': 2, '्': 2, 'а': 2, 'р': 2, 'е': 2, 'й': 2, 'и': 2, 'ʒ': 2, '\\x9d': 2, 'ο': 2, 'λ': 2, 'α': 2, 'ş': 2, '°': 2, '′': 2, 'ę': 2, 'ح': 2, 'ی': 2, 'י': 2, 'ﬂ': 2, 'ف': 2, 'ب': 2, 'ū': 2, 'ī': 2, 'ე': 2, 'ː': 2, 'ʼ': 2, 'æ': 2, 'γ': 2, 'ı': 2, 'ص': 1, '思': 1, '川': 1, '駅': 1, 'क': 1, 'प': 1, 'ह': 1, 'ु': 1, 'द': 1, 'ी': 1, 'र': 1, 'ы': 1, 'т': 1, 'я': 1, 'ɛ': 1, '̃': 1, 'ɔ': 1, 'ʁ': 1, 'î': 1, 'ś': 1, 'ê': 1, 'ί': 1, 'ν': 1, 'ă': 1, 'ʾ': 1, 'ñ': 1, 'ż': 1, 'س': 1, 'ہ': 1, '\\u202c': 1, 'β': 1, 'š': 1, 'צ': 1, 'ב': 1, 'ז': 1, 'מ': 1, 'ר': 1, 'ã': 1, 'ò': 1, 'ه': 1, 'ქ': 1, 'მ': 1, 'ფ': 1, 'რ': 1, 'ი': 1, 'ج': 1, 'ؤ': 1, 'ɪ': 1, 'ʊ': 1, 'ɑ': 1, 'ħ': 1, 'ġ': 1, 'ﬁ': 1, 'ź': 1, 'ç': 1, 'ώ': 1, 'ρ': 1, 'τ': 1, 'σ': 1, 'ά': 1, '̇': 1, 'ğ': 1, '½': 1, 'ț': 1, 'ø': 1}\n"
          ]
        }
      ]
    },
    {
      "cell_type": "code",
      "source": [
        "# Separate keys and values\n",
        "test = language_char_freq.get(\"English\",{})\n",
        "characters = list(test.keys())\n",
        "counts = list(test.values())\n",
        "\n",
        "# Create the bar plot\n",
        "plt.bar(characters, counts)\n",
        "plt.xlabel('Characters')\n",
        "plt.ylabel('Count')\n",
        "plt.title('Character Frequency Histogram')\n",
        "plt.show()"
      ],
      "metadata": {
        "colab": {
          "base_uri": "https://localhost:8080/",
          "height": 1000
        },
        "id": "NtBFhS7oPUeG",
        "outputId": "d69845e6-b9f1-41ac-f074-648f0401f1d5"
      },
      "execution_count": 78,
      "outputs": [
        {
          "output_type": "stream",
          "name": "stderr",
          "text": [
            "/usr/local/lib/python3.11/dist-packages/IPython/core/pylabtools.py:151: UserWarning: Glyph 2350 (\\N{DEVANAGARI LETTER MA}) missing from font(s) DejaVu Sans.\n",
            "  fig.canvas.print_figure(bytes_io, **kw)\n",
            "/usr/local/lib/python3.11/dist-packages/IPython/core/pylabtools.py:151: UserWarning: Matplotlib currently does not support Devanagari natively.\n",
            "  fig.canvas.print_figure(bytes_io, **kw)\n",
            "/usr/local/lib/python3.11/dist-packages/IPython/core/pylabtools.py:151: UserWarning: Glyph 2344 (\\N{DEVANAGARI LETTER NA}) missing from font(s) DejaVu Sans.\n",
            "  fig.canvas.print_figure(bytes_io, **kw)\n",
            "/usr/local/lib/python3.11/dist-packages/IPython/core/pylabtools.py:151: UserWarning: Glyph 2366 (\\N{DEVANAGARI VOWEL SIGN AA}) missing from font(s) DejaVu Sans.\n",
            "  fig.canvas.print_figure(bytes_io, **kw)\n",
            "/usr/local/lib/python3.11/dist-packages/IPython/core/pylabtools.py:151: UserWarning: Glyph 2381 (\\N{DEVANAGARI SIGN VIRAMA}) missing from font(s) DejaVu Sans.\n",
            "  fig.canvas.print_figure(bytes_io, **kw)\n",
            "/usr/local/lib/python3.11/dist-packages/IPython/core/pylabtools.py:151: UserWarning: Glyph 157 (\\x9d) missing from font(s) DejaVu Sans.\n",
            "  fig.canvas.print_figure(bytes_io, **kw)\n",
            "/usr/local/lib/python3.11/dist-packages/IPython/core/pylabtools.py:151: UserWarning: Glyph 24605 (\\N{CJK UNIFIED IDEOGRAPH-601D}) missing from font(s) DejaVu Sans.\n",
            "  fig.canvas.print_figure(bytes_io, **kw)\n",
            "/usr/local/lib/python3.11/dist-packages/IPython/core/pylabtools.py:151: UserWarning: Glyph 24029 (\\N{CJK UNIFIED IDEOGRAPH-5DDD}) missing from font(s) DejaVu Sans.\n",
            "  fig.canvas.print_figure(bytes_io, **kw)\n",
            "/usr/local/lib/python3.11/dist-packages/IPython/core/pylabtools.py:151: UserWarning: Glyph 39365 (\\N{CJK UNIFIED IDEOGRAPH-99C5}) missing from font(s) DejaVu Sans.\n",
            "  fig.canvas.print_figure(bytes_io, **kw)\n",
            "/usr/local/lib/python3.11/dist-packages/IPython/core/pylabtools.py:151: UserWarning: Glyph 2325 (\\N{DEVANAGARI LETTER KA}) missing from font(s) DejaVu Sans.\n",
            "  fig.canvas.print_figure(bytes_io, **kw)\n",
            "/usr/local/lib/python3.11/dist-packages/IPython/core/pylabtools.py:151: UserWarning: Glyph 2346 (\\N{DEVANAGARI LETTER PA}) missing from font(s) DejaVu Sans.\n",
            "  fig.canvas.print_figure(bytes_io, **kw)\n",
            "/usr/local/lib/python3.11/dist-packages/IPython/core/pylabtools.py:151: UserWarning: Glyph 2361 (\\N{DEVANAGARI LETTER HA}) missing from font(s) DejaVu Sans.\n",
            "  fig.canvas.print_figure(bytes_io, **kw)\n",
            "/usr/local/lib/python3.11/dist-packages/IPython/core/pylabtools.py:151: UserWarning: Glyph 2369 (\\N{DEVANAGARI VOWEL SIGN U}) missing from font(s) DejaVu Sans.\n",
            "  fig.canvas.print_figure(bytes_io, **kw)\n",
            "/usr/local/lib/python3.11/dist-packages/IPython/core/pylabtools.py:151: UserWarning: Glyph 2342 (\\N{DEVANAGARI LETTER DA}) missing from font(s) DejaVu Sans.\n",
            "  fig.canvas.print_figure(bytes_io, **kw)\n",
            "/usr/local/lib/python3.11/dist-packages/IPython/core/pylabtools.py:151: UserWarning: Glyph 2368 (\\N{DEVANAGARI VOWEL SIGN II}) missing from font(s) DejaVu Sans.\n",
            "  fig.canvas.print_figure(bytes_io, **kw)\n",
            "/usr/local/lib/python3.11/dist-packages/IPython/core/pylabtools.py:151: UserWarning: Glyph 2352 (\\N{DEVANAGARI LETTER RA}) missing from font(s) DejaVu Sans.\n",
            "  fig.canvas.print_figure(bytes_io, **kw)\n",
            "/usr/local/lib/python3.11/dist-packages/IPython/core/pylabtools.py:151: UserWarning: Glyph 1729 (\\N{ARABIC LETTER HEH GOAL}) missing from font(s) DejaVu Sans.\n",
            "  fig.canvas.print_figure(bytes_io, **kw)\n",
            "/usr/local/lib/python3.11/dist-packages/IPython/core/pylabtools.py:151: UserWarning: Matplotlib currently does not support Arabic natively.\n",
            "  fig.canvas.print_figure(bytes_io, **kw)\n"
          ]
        },
        {
          "output_type": "display_data",
          "data": {
            "text/plain": [
              "<Figure size 640x480 with 1 Axes>"
            ],
            "image/png": "[encoded data removed]"
          },
          "metadata": {}
        }
      ]
    },
    {
      "cell_type": "markdown",
      "source": [
        "1. Character Frequency\n",
        "2. Word Frequency\n",
        "    - Type of those words"
      ],
      "metadata": {
        "id": "LAT_x6xgEEk3"
      }
    },
    {
      "cell_type": "code",
      "source": [
        "Todo: get rid of outliers / maybe using standard deviation."
      ],
      "metadata": {
        "id": "R16BN2ctP95L"
      },
      "execution_count": null,
      "outputs": []
    }
  ]
}